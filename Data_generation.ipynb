{
 "cells": [
  {
   "cell_type": "code",
   "execution_count": null,
   "metadata": {},
   "outputs": [],
   "source": [
    "import os\n",
    "current_dir = os.getcwd()\n",
    "os.chdir(current_dir)\n",
    "import matplotlib.pyplot as plt\n",
    "#%matplotlib inline  \n",
    "#%load_ext autoreload\n",
    "#%autoreload 2\n",
    "import numpy as np\n",
    "import time\n",
    "import random\n",
    "import pandas as pd\n",
    "from joblib import Parallel, delayed"
   ]
  },
  {
   "cell_type": "code",
   "execution_count": null,
   "metadata": {},
   "outputs": [],
   "source": [
    "def print_np(x):\n",
    "    print (\"Type is %s\" % (type(x)))\n",
    "    print (\"Shape is %s\" % (x.shape,))\n",
    "#     print (\"Values are: \\n%s\" % (x))"
   ]
  },
  {
   "cell_type": "code",
   "execution_count": null,
   "metadata": {},
   "outputs": [],
   "source": [
    "import sys\n",
    "# sys.path.append('../')\n",
    "#sys.path.append('/')\n",
    "sys.path.append(os.path.join(current_dir, 'constraints'))\n",
    "sys.path.append(os.path.join(current_dir, 'model'))\n",
    "sys.path.append(os.path.join(current_dir, 'cost'))\n",
    "\n",
    "import UnicycleModel\n",
    "\n",
    "#%%\n",
    "import UnicycleCost\n",
    "import UnicycleConstraints\n",
    "from scipy.integrate import solve_ivp\n",
    "from PTR_tf_free_v2 import PTR_tf_free"
   ]
  },
  {
   "cell_type": "code",
   "execution_count": null,
   "metadata": {},
   "outputs": [],
   "source": [
    "def run_scp(i):\n",
    "    ix = 3\n",
    "    iu = 2\n",
    "    ih = 2\n",
    "    N = 30\n",
    "    tf = 3\n",
    "    delT = tf/N\n",
    "    max_iter = 20\n",
    "\n",
    "    mu=0\n",
    "    sigma=0.5\n",
    "\n",
    "    xi = np.zeros(3)\n",
    "    xi[0] = -1.0 +np.random.normal(mu,sigma)\n",
    "    xi[1] = -2.0 +np.random.normal(mu,sigma)\n",
    "    xi[2] = 0 \n",
    "\n",
    "    xf = np.zeros(3)\n",
    "    xf[0] = 2.0 +np.random.normal(mu,sigma)\n",
    "    xf[1] = 2.0 +np.random.normal(mu,sigma)\n",
    "    xf[2] = 0\n",
    "\n",
    "    myModel = UnicycleModel.unicycle('Hello',ix,iu,'numeric_central')\n",
    "    myCost = UnicycleCost.unicycle('Hello',ix,iu,N)\n",
    "    myConst = UnicycleConstraints.UnicycleConstraints('Hello',ix,iu)\n",
    "\n",
    "    x0 = np.zeros((N+1,ix))\n",
    "    for j in range(N+1) :\n",
    "        x0[j] = (N-j)/N * xi + j/N * xf\n",
    "    # u0 = np.random.rand(N,iu)\n",
    "    u0 = np.zeros((N+1,iu))\n",
    "\n",
    "    i1 = PTR_tf_free('unicycle',N,tf,max_iter,myModel,myCost,myConst,type_discretization=\"zoh\",\n",
    "            w_c=1,w_vc=1e3,w_tr=1e-1,w_rate=0,\n",
    "            tol_vc=1e-6,tol_tr=1e-3)\n",
    "    x,u,xbar,ubar,tf,total_num_iter,flag_boundary,l,l_vc,l_tr,x_traj,u_traj,T_traj = i1.run(x0,u0,xi,xf)\n",
    "    xini = np.vstack((xi,xf))\n",
    "\n",
    "    return x0,x,u,total_num_iter,xini,tf"
   ]
  },
  {
   "cell_type": "code",
   "execution_count": null,
   "metadata": {},
   "outputs": [],
   "source": [
    "N=30\n",
    "M=20000\n",
    "\n",
    "results = Parallel(n_jobs=11)(delayed(run_scp)(i) for i in range(M))"
   ]
  },
  {
   "cell_type": "code",
   "execution_count": null,
   "metadata": {},
   "outputs": [],
   "source": [
    "Totalx0 = np.concatenate([r[0] for r in results], axis=1)  # shape: (N+1, 3*M)\n",
    "Totalx  = np.concatenate([r[1] for r in results], axis=1)  # shape: (N+1, 3*M)\n",
    "\n",
    "v_all = np.stack([r[2][:, 0] for r in results], axis=1)  # (N+1, M)\n",
    "w_all = np.stack([r[2][:, 1] for r in results], axis=1)  # (N+1, M)\n",
    "Totalu = np.empty((N+1, 2*M))\n",
    "Totalu[:, 0::2] = v_all\n",
    "Totalu[:, 1::2] = w_all\n",
    "Totalv = v_all\n",
    "Totalw = w_all\n",
    "\n",
    "Totaliter = np.array([r[3] for r in results]).reshape(1, M)\n",
    "\n",
    "Totalxini = np.stack([r[4] for r in results], axis=1)  # shape: (6, M)\n",
    "\n",
    "Totaltf = np.array([r[5] for r in results]).reshape(1, M)"
   ]
  },
  {
   "cell_type": "code",
   "execution_count": null,
   "metadata": {},
   "outputs": [],
   "source": [
    "np.savez('data_unicycle_20000_sig0.5_tf_free', Totalx0=Totalx0, Totalx=Totalx, Totalu=Totalu,Totalv=Totalv, Totalw=Totalw, Totaliter=Totaliter,Totalxini=Totalxini,Totaltf=Totaltf)"
   ]
  }
 ],
 "metadata": {
  "kernelspec": {
   "display_name": "base",
   "language": "python",
   "name": "python3"
  },
  "language_info": {
   "codemirror_mode": {
    "name": "ipython",
    "version": 3
   },
   "file_extension": ".py",
   "mimetype": "text/x-python",
   "name": "python",
   "nbconvert_exporter": "python",
   "pygments_lexer": "ipython3",
   "version": "3.12.2"
  }
 },
 "nbformat": 4,
 "nbformat_minor": 2
}
